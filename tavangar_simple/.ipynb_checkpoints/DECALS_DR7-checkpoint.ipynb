{
 "cells": [
  {
   "cell_type": "code",
   "execution_count": 9,
   "metadata": {},
   "outputs": [],
   "source": [
    "import numpy as np\n",
    "import fitsio as fitsio\n",
    "from astropy.io import fits\n",
    "\n",
    "import os\n",
    "from sklearn.mixture import GMM\n",
    "#import seaborn as sns\n",
    "import matplotlib.pyplot as plt\n",
    "%matplotlib inline  \n",
    "import sys\n",
    "\n",
    "if not sys.warnoptions:\n",
    "    import warnings\n",
    "    warnings.simplefilter(\"ignore\")\n",
    "\n",
    "#sns.set(style='white', font_scale=1.6, palette='deep')\n",
    "#col = sns.color_palette()"
   ]
  },
  {
   "cell_type": "code",
   "execution_count": 10,
   "metadata": {},
   "outputs": [],
   "source": [
    "#data = fitsio.read('/data/des40.b/data/decals/dr7/raw/sweep-340p000-350p005.fits')\n",
    "data1 = fits.getdata('/data/des40.b/data/decals/dr7/raw/sweep-340p000-350p005.fits', 1)"
   ]
  },
  {
   "cell_type": "code",
   "execution_count": 11,
   "metadata": {},
   "outputs": [],
   "source": [
    "fluxg = data1['FLUX_G']\n",
    "fluxr = data1['FLUX_R']\n",
    "fluxz = data1['FLUX_Z']\n",
    "anymaskg = data1['ANYMASK_G']\n",
    "anymaskr = data1['ANYMASK_R']\n",
    "anymaskz = data1['ANYMASK_Z']\n",
    "fracfluxg = data1['FRACFLUX_G']\n",
    "fracfluxr = data1['FRACFLUX_R']\n",
    "fracfluxz = data1['FRACFLUX_Z']"
   ]
  },
  {
   "cell_type": "code",
   "execution_count": 8,
   "metadata": {},
   "outputs": [
    {
     "name": "stdout",
     "output_type": "stream",
     "text": [
      "Found 42682 stars with good photometry.\n"
     ]
    }
   ],
   "source": [
    "rbright= 18\n",
    "rfaint = 19.5\n",
    "keep = np.where((data1['TYPE'].strip() == 'PSF')*\n",
    "                (((fluxg > 0)*1 + (fluxr > 0)*1 + (fluxz > 0)*1) == 3)*\n",
    "                (((anymaskg > 0)*1 + (anymaskr > 0)*1 + (anymaskz > 0)*1) == 0)*\n",
    "                (((fracfluxg < 0.05)*1 + (fracfluxr < 0.05)*1 + (fracfluxz < 0.05)*1) == 3)*\n",
    "                (fluxr < (10**(0.4*(22.5-rbright))))*\n",
    "                (fluxr > (10**(0.4*(22.5-rfaint)))))[0]\n",
    "stars = data1[keep]\n",
    "print('Found {} stars with good photometry.'.format(len(stars)))"
   ]
  },
  {
   "cell_type": "code",
   "execution_count": 9,
   "metadata": {},
   "outputs": [],
   "source": [
    "gg = 22.5-2.5*np.log10(stars['FLUX_G'])\n",
    "rr = 22.5-2.5*np.log10(stars['FLUX_R'])\n",
    "zz = 22.5-2.5*np.log10(stars['FLUX_Z'])\n",
    "gr = gg - rr\n",
    "rz = rr - zz\n",
    "Xall = np.array([rz, gr]).T"
   ]
  },
  {
   "cell_type": "code",
   "execution_count": 28,
   "metadata": {
    "scrolled": true
   },
   "outputs": [
    {
     "data": {
      "image/png": "[encoded data removed]",
      "text/plain": [
       "<Figure size 576x360 with 1 Axes>"
      ]
     },
     "metadata": {},
     "output_type": "display_data"
    }
   ],
   "source": [
    "# Simple function to compute the Bayesian information criterion.\n",
    "def getbic(X, ncomp=[3]):\n",
    "    bic = [GMM(n_components=nc, covariance_type=\"full\").fit(X).bic(X) for nc in ncomp]\n",
    "    #for ii in range(len(ncomp)):\n",
    "    #    print(ncomp[ii], bic[ii])\n",
    "    return bic\n",
    "\n",
    "\n",
    "ncomp = np.arange(2, 10)\n",
    "bic = getbic(Xall, ncomp)\n",
    "fig, ax = plt.subplots(1, 1, figsize=(8,5))\n",
    "ax.plot(ncomp, bic, marker='s', ls='-')\n",
    "ax.set_xlim((0, 10))\n",
    "ax.set_xlabel('Number of Gaussian Components')\n",
    "ax.set_ylabel('Bayesian Information Criterion')\n",
    "plt.legend(labels=['Star g-r, r-z colors'])\n",
    "plt.tight_layout()\n",
    "plt.show()\n"
   ]
  },
  {
   "cell_type": "markdown",
   "metadata": {},
   "source": [
    "## Converting FLUX to MAG"
   ]
  },
  {
   "cell_type": "markdown",
   "metadata": {},
   "source": [
    "Pogson Magnitude: $m = [22.5 \\textrm{mag}] – 2.5 \\textrm{log}_{10} f$\n",
    "\n",
    "asinh Magnitude: $m = \\frac{-2.5}{\\textrm{ln}(10)} * \\textrm{asinh} \\frac{f/f_0}{2b} + \\textrm{ln}(b)$\n",
    "where $f_0$ is the classical zero point of the magnitude scale. $b$ is measured relative to $f_0$\n",
    "\n",
    "![title](img/asinh_mag.jpg)"
   ]
  },
  {
   "cell_type": "code",
   "execution_count": 2,
   "metadata": {
    "scrolled": true
   },
   "outputs": [
    {
     "name": "stdout",
     "output_type": "stream",
     "text": [
      "/bin/sh: -c: line 0: syntax error near unexpected token `asinh_mag.png'\r\n",
      "/bin/sh: -c: line 0: `[title](asinh_mag.png)'\r\n"
     ]
    }
   ],
   "source": [
    "bg = 0.9e-10\n",
    "f0_g = \n",
    "MAG_G = [-2.5/np.log(10)] * [math.asinh((fluxg/f0_g)/(2*bg)) + np.log(bg)]"
   ]
  }
 ],
 "metadata": {
  "kernelspec": {
   "display_name": "Python 2",
   "language": "python",
   "name": "python2"
  }
 },
 "nbformat": 4,
 "nbformat_minor": 2
}
